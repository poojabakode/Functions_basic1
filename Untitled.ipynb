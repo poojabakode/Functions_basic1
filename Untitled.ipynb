{
 "cells": [
  {
   "cell_type": "code",
   "execution_count": 5,
   "id": "1ebdcf45-ce60-4377-8c44-85fa49c2c7d8",
   "metadata": {},
   "outputs": [],
   "source": [
    "def test1():\n",
    "    print(\"this is my very first function in python\")"
   ]
  },
  {
   "cell_type": "code",
   "execution_count": 6,
   "id": "e6855371-2e10-4c9d-9ee5-02617f845f73",
   "metadata": {},
   "outputs": [],
   "source": [
    "a = 1"
   ]
  },
  {
   "cell_type": "code",
   "execution_count": 7,
   "id": "6c736e01-5ccc-4a46-aa7c-016a615f518b",
   "metadata": {},
   "outputs": [
    {
     "name": "stdout",
     "output_type": "stream",
     "text": [
      "this is my very first function in python\n"
     ]
    }
   ],
   "source": [
    "b = test1()"
   ]
  },
  {
   "cell_type": "code",
   "execution_count": 8,
   "id": "a3c8e863-b693-4dff-b421-2ecb93d3f5dc",
   "metadata": {},
   "outputs": [],
   "source": [
    "c = \"kumar\""
   ]
  },
  {
   "cell_type": "code",
   "execution_count": 9,
   "id": "882e106b-0ded-41e3-a97b-9ccbf45a4916",
   "metadata": {},
   "outputs": [
    {
     "data": {
      "text/plain": [
       "str"
      ]
     },
     "execution_count": 9,
     "metadata": {},
     "output_type": "execute_result"
    }
   ],
   "source": [
    "type(c)"
   ]
  },
  {
   "cell_type": "code",
   "execution_count": 10,
   "id": "aaec7e04-1a33-4776-940e-4611cd88588b",
   "metadata": {},
   "outputs": [
    {
     "data": {
      "text/plain": [
       "NoneType"
      ]
     },
     "execution_count": 10,
     "metadata": {},
     "output_type": "execute_result"
    }
   ],
   "source": [
    "type(b)"
   ]
  },
  {
   "cell_type": "code",
   "execution_count": 11,
   "id": "72182104-2a10-4bc2-ae27-d56176abdd6f",
   "metadata": {},
   "outputs": [
    {
     "name": "stdout",
     "output_type": "stream",
     "text": [
      "this is my very first function in python\n"
     ]
    },
    {
     "data": {
      "text/plain": [
       "NoneType"
      ]
     },
     "execution_count": 11,
     "metadata": {},
     "output_type": "execute_result"
    }
   ],
   "source": [
    "type(test1())"
   ]
  },
  {
   "cell_type": "code",
   "execution_count": 12,
   "id": "762935b0-738f-4afe-9709-6a37228f3846",
   "metadata": {},
   "outputs": [],
   "source": [
    "def test2():\n",
    "    return 5"
   ]
  },
  {
   "cell_type": "code",
   "execution_count": 13,
   "id": "bee3d1a1-b065-4013-9835-e49a73c8f9fa",
   "metadata": {},
   "outputs": [
    {
     "data": {
      "text/plain": [
       "5"
      ]
     },
     "execution_count": 13,
     "metadata": {},
     "output_type": "execute_result"
    }
   ],
   "source": [
    "test2()"
   ]
  },
  {
   "cell_type": "code",
   "execution_count": 14,
   "id": "d60c6b8e-2530-43f4-9a72-da8cb94578fb",
   "metadata": {},
   "outputs": [],
   "source": [
    "d = test2()"
   ]
  },
  {
   "cell_type": "code",
   "execution_count": 15,
   "id": "bbc08e30-c03e-4435-b6d6-f69088d0412c",
   "metadata": {},
   "outputs": [
    {
     "data": {
      "text/plain": [
       "5"
      ]
     },
     "execution_count": 15,
     "metadata": {},
     "output_type": "execute_result"
    }
   ],
   "source": [
    "d"
   ]
  },
  {
   "cell_type": "code",
   "execution_count": 16,
   "id": "aaf53558-08de-4946-bd10-028666084868",
   "metadata": {},
   "outputs": [
    {
     "data": {
      "text/plain": [
       "builtin_function_or_method"
      ]
     },
     "execution_count": 16,
     "metadata": {},
     "output_type": "execute_result"
    }
   ],
   "source": [
    "type(print)"
   ]
  },
  {
   "cell_type": "code",
   "execution_count": 17,
   "id": "df379e13-3c35-4cd9-8075-c5493e769412",
   "metadata": {},
   "outputs": [
    {
     "name": "stdout",
     "output_type": "stream",
     "text": [
      "this\n"
     ]
    },
    {
     "data": {
      "text/plain": [
       "NoneType"
      ]
     },
     "execution_count": 17,
     "metadata": {},
     "output_type": "execute_result"
    }
   ],
   "source": [
    "type(print(\"this\"))"
   ]
  },
  {
   "cell_type": "code",
   "execution_count": 19,
   "id": "b9487f03-c583-4e9b-b379-6a797ce302d5",
   "metadata": {},
   "outputs": [],
   "source": [
    "def test3():\n",
    "    return 5"
   ]
  },
  {
   "cell_type": "code",
   "execution_count": 20,
   "id": "2377628a-9149-4d13-a27d-63eb4be0219a",
   "metadata": {},
   "outputs": [],
   "source": [
    "def test4():\n",
    "    print(\"this is the very first function\")"
   ]
  },
  {
   "cell_type": "code",
   "execution_count": 21,
   "id": "20a3eb2d-1d5d-4c01-9c5b-979b797111d3",
   "metadata": {},
   "outputs": [],
   "source": [
    "def test3():\n",
    "    return \"sudh\""
   ]
  },
  {
   "cell_type": "code",
   "execution_count": 22,
   "id": "37704f8f-39cc-4a55-807a-a5503d251afc",
   "metadata": {},
   "outputs": [
    {
     "data": {
      "text/plain": [
       "'sudhsudh'"
      ]
     },
     "execution_count": 22,
     "metadata": {},
     "output_type": "execute_result"
    }
   ],
   "source": [
    "test3()+ \"sudh\""
   ]
  },
  {
   "cell_type": "code",
   "execution_count": 23,
   "id": "b727ac3e-dafb-4a41-b174-1ddbd56ddda6",
   "metadata": {},
   "outputs": [],
   "source": [
    "def test5():\n",
    "    print(\"this is for inform that it is necessary to have indentation\")"
   ]
  },
  {
   "cell_type": "code",
   "execution_count": 25,
   "id": "46745a75-74c2-46da-b17c-7628299ff4bc",
   "metadata": {},
   "outputs": [],
   "source": [
    "def test6():\n",
    "    return 1,3,[3,4,5,\"poo\"],(3,4,5,6)"
   ]
  },
  {
   "cell_type": "code",
   "execution_count": 26,
   "id": "025bb19f-13e5-4f56-8b51-0904b2293728",
   "metadata": {},
   "outputs": [
    {
     "data": {
      "text/plain": [
       "(1, 3, [3, 4, 5, 'poo'], (3, 4, 5, 6))"
      ]
     },
     "execution_count": 26,
     "metadata": {},
     "output_type": "execute_result"
    }
   ],
   "source": [
    "test6()"
   ]
  },
  {
   "cell_type": "code",
   "execution_count": 30,
   "id": "9e096053-6d35-4d93-ae13-57430e1c310d",
   "metadata": {},
   "outputs": [
    {
     "data": {
      "text/plain": [
       "tuple"
      ]
     },
     "execution_count": 30,
     "metadata": {},
     "output_type": "execute_result"
    }
   ],
   "source": [
    "type(test6())"
   ]
  },
  {
   "cell_type": "code",
   "execution_count": 31,
   "id": "f755d22a-effb-4f87-a4f6-580e767b42c9",
   "metadata": {},
   "outputs": [
    {
     "data": {
      "text/plain": [
       "3"
      ]
     },
     "execution_count": 31,
     "metadata": {},
     "output_type": "execute_result"
    }
   ],
   "source": [
    "test6()[1]"
   ]
  },
  {
   "cell_type": "code",
   "execution_count": 32,
   "id": "2bb70687-3545-4d6a-8c4a-d80254ce8d86",
   "metadata": {},
   "outputs": [
    {
     "data": {
      "text/plain": [
       "[3, 4, 5, 'poo']"
      ]
     },
     "execution_count": 32,
     "metadata": {},
     "output_type": "execute_result"
    }
   ],
   "source": [
    "test6()[2]"
   ]
  },
  {
   "cell_type": "code",
   "execution_count": 33,
   "id": "d2ba84c8-8944-4594-a759-eaa2cbd9ea40",
   "metadata": {},
   "outputs": [],
   "source": [
    "def test8():\n",
    "    a = 4*5+8\n",
    "    return a"
   ]
  },
  {
   "cell_type": "code",
   "execution_count": 34,
   "id": "08cb241b-ba15-43ec-9bee-0137410b292c",
   "metadata": {},
   "outputs": [
    {
     "data": {
      "text/plain": [
       "28"
      ]
     },
     "execution_count": 34,
     "metadata": {},
     "output_type": "execute_result"
    }
   ],
   "source": [
    "test8()"
   ]
  },
  {
   "cell_type": "code",
   "execution_count": 36,
   "id": "7f7de00b-352d-4645-a10c-b1ec68d98266",
   "metadata": {},
   "outputs": [
    {
     "data": {
      "text/plain": [
       "int"
      ]
     },
     "execution_count": 36,
     "metadata": {},
     "output_type": "execute_result"
    }
   ],
   "source": [
    "type(test8())"
   ]
  },
  {
   "cell_type": "code",
   "execution_count": 66,
   "id": "6bc7031e-29da-4810-aff0-7d51ede09ab9",
   "metadata": {},
   "outputs": [
    {
     "ename": "IndentationError",
     "evalue": "unindent does not match any outer indentation level (<tokenize>, line 7)",
     "output_type": "error",
     "traceback": [
      "\u001b[0;36m  File \u001b[0;32m<tokenize>:7\u001b[0;36m\u001b[0m\n\u001b[0;31m    return a\u001b[0m\n\u001b[0m    ^\u001b[0m\n\u001b[0;31mIndentationError\u001b[0m\u001b[0;31m:\u001b[0m unindent does not match any outer indentation level\n"
     ]
    }
   ],
   "source": [
    "def test9():\n",
    "\tl = [2,3,4,5,6,7,8,9,\"sudh\"]\n",
    "\ta = 0\n",
    "\tfor i in l :\n",
    "        if type(i) == int:\n",
    "        \ta = i+a \n",
    "            return a"
   ]
  },
  {
   "cell_type": "code",
   "execution_count": 67,
   "id": "51bf5e0f-7d22-4c19-9c69-b098cb6af09b",
   "metadata": {},
   "outputs": [],
   "source": [
    "def test11(a,b):\n",
    "    return a+b"
   ]
  },
  {
   "cell_type": "code",
   "execution_count": 68,
   "id": "f9f05597-7572-43ee-83f8-a47df7755f61",
   "metadata": {},
   "outputs": [
    {
     "data": {
      "text/plain": [
       "5"
      ]
     },
     "execution_count": 68,
     "metadata": {},
     "output_type": "execute_result"
    }
   ],
   "source": [
    "test11(2,3)"
   ]
  },
  {
   "cell_type": "code",
   "execution_count": 69,
   "id": "c4867d75-aa0f-4de4-b844-dd96c84019fa",
   "metadata": {},
   "outputs": [
    {
     "data": {
      "text/plain": [
       "'poooop'"
      ]
     },
     "execution_count": 69,
     "metadata": {},
     "output_type": "execute_result"
    }
   ],
   "source": [
    "test11(\"poo\",\"oop\")"
   ]
  },
  {
   "cell_type": "code",
   "execution_count": 73,
   "id": "d30ac7f5-b2d8-438b-a0a1-be0b5c4a4093",
   "metadata": {},
   "outputs": [
    {
     "data": {
      "text/plain": [
       "12"
      ]
     },
     "execution_count": 73,
     "metadata": {},
     "output_type": "execute_result"
    }
   ],
   "source": [
    "test11(a= 7, b=5)"
   ]
  },
  {
   "cell_type": "code",
   "execution_count": 74,
   "id": "3bc0ccfc-dec8-47ce-97e3-c9dafe7e886e",
   "metadata": {},
   "outputs": [],
   "source": [
    "l = [3,4,5,6,7,8,9,\"poo\",5,6,7,\"ku\",\"inru\"]"
   ]
  },
  {
   "cell_type": "code",
   "execution_count": 78,
   "id": "b70b3903-2c38-4307-ae04-b364c3003aa8",
   "metadata": {},
   "outputs": [
    {
     "ename": "IndentationError",
     "evalue": "unindent does not match any outer indentation level (<tokenize>, line 6)",
     "output_type": "error",
     "traceback": [
      "\u001b[0;36m  File \u001b[0;32m<tokenize>:6\u001b[0;36m\u001b[0m\n\u001b[0;31m    return l1\u001b[0m\n\u001b[0m    ^\u001b[0m\n\u001b[0;31mIndentationError\u001b[0m\u001b[0;31m:\u001b[0m unindent does not match any outer indentation level\n"
     ]
    }
   ],
   "source": [
    "def test12(l)\n",
    "\tl1 = []\n",
    "\tfor i in l:\n",
    "    \tif type(i) == str:\n",
    "       \t\t l1.append(i)\n",
    "    return l1"
   ]
  },
  {
   "cell_type": "code",
   "execution_count": 76,
   "id": "c31a56e9-92bc-4b7e-842a-ffd5997782ad",
   "metadata": {},
   "outputs": [
    {
     "data": {
      "text/plain": [
       "['poo', 'ku', 'inru']"
      ]
     },
     "execution_count": 76,
     "metadata": {},
     "output_type": "execute_result"
    }
   ],
   "source": [
    "l1"
   ]
  },
  {
   "cell_type": "code",
   "execution_count": null,
   "id": "e3528ccb-ad4f-43c5-a212-8349a31b55a6",
   "metadata": {},
   "outputs": [],
   "source": [
    "len("
   ]
  }
 ],
 "metadata": {
  "kernelspec": {
   "display_name": "Python 3 (ipykernel)",
   "language": "python",
   "name": "python3"
  },
  "language_info": {
   "codemirror_mode": {
    "name": "ipython",
    "version": 3
   },
   "file_extension": ".py",
   "mimetype": "text/x-python",
   "name": "python",
   "nbconvert_exporter": "python",
   "pygments_lexer": "ipython3",
   "version": "3.10.6"
  }
 },
 "nbformat": 4,
 "nbformat_minor": 5
}
